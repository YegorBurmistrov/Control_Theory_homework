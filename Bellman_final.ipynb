{
 "cells": [
  {
   "cell_type": "markdown",
   "metadata": {},
   "source": [
    "# Постановка задачи оптимального управления\n",
    "\n",
    "$\\dot{x} = f(x,u,t), \\qquad  x \\in \\mathbb{R}^n, \\qquad  u \\in \\mathbb{U}^m$\n",
    "\n",
    "$x$ - вектор фазовых переменных, $u$ - вектор управляющих параметров.\n",
    "\n",
    "Начальные и терминальные условия условия:\n",
    "\n",
    "$$x(t_0) \\in A = \\left\\{\n",
    "    \\begin{array}\\\\\n",
    "       a_1(x,t) = 0 \\\\\n",
    "        \\dots \\\\\n",
    "        a_l(x,t) = 0\n",
    "    \\end{array}   \n",
    "\\right. \\qquad\n",
    "x(t_f) \\in B = \\left\\{\n",
    "    \\begin{array}\\\\\n",
    "       b_1(x,t) = 0 \\\\\n",
    "        \\dots \\\\\n",
    "        b_r(x,t) = 0\n",
    "    \\end{array}   \n",
    "\\right.$$\n",
    "\n",
    "\n",
    "Функционал\n",
    "$$\\int_{t_0}^{t_f}I(x,u,t)dt + \\Phi(x(t_f), t_f) \\rightarrow \\max_u$$"
   ]
  },
  {
   "cell_type": "markdown",
   "metadata": {},
   "source": [
    "# Уравнение Беллмана\n",
    "\n",
    "Пусть  поставленная задача оптимального управления имеет решение. Максимальное значение функционала для начального состояния $x, t$:\n",
    "$$J^* = V(x,t)$$\n",
    "\n",
    "Будем называть $V(x,t)$ функцией оптимального поведения, опорной функцией или функцией Беллмана.\n",
    "\n",
    "\n",
    "\n",
    "В теории управления доказывается, что она определяется как решение следующего уравнения (Беллмана) с условием  на конечное состояние $V(x(t_f),t_f) = \\Phi(x(t_f), t_f)$.\n",
    "$$\\frac{\\partial V}{\\partial t} + \\max_{u(t)} \\left[ I(x,u,t) + \\frac{\\partial V}{\\partial x} \\cdot f(x,u,t)\\right]= 0$$\n",
    "\n",
    "Существование опорной функции является достаточным условием возможности построить для нашей задачи оптимальное управление."
   ]
  },
  {
   "cell_type": "markdown",
   "metadata": {},
   "source": [
    "# Задача\n",
    "\n",
    "\n",
    "Пусть дана следующая система\n",
    "$$\\left\\{\n",
    "\\begin{array}\\\\\n",
    "\\dot{x} = v \\\\\n",
    "\\dot{v} = u \\\\\n",
    "\\ |u| <= 1\n",
    "\\end{array}\n",
    "\\right.$$\n",
    "\n",
    "В качестве функционала предлагается рассмотреть время за которое система достигнет нуля\n",
    "$$- \\int_{0}^{t_f} dt = -{t_f}\\rightarrow \\max_u $$\n",
    "\n",
    "Граничные условия задачи:\n",
    "$$x(t_0) = x_0 \\qquad v(t_0) = v_0 $$\n",
    "\n",
    "Конечный момент времени не фиксирован. \n",
    "\n",
    "Заметим, что наша опорная функция не зависит от времени. Тогда уравнение Беллмана запишется в виде:\n",
    "$$\\max_{u(t)}\\left[-1 + \\frac{\\partial V}{\\partial x}\\cdot v +  \\frac{\\partial V}{\\partial v}\\cdot u\\right] = 0 $$\n",
    "\n",
    "или\n",
    "$$-1 + \\frac{\\partial V}{\\partial x}\\cdot v +\\max_{u(t)}\\left[  \\frac{\\partial V}{\\partial v}\\cdot u\\right] = 0 $$\n",
    "\n",
    "Максимум достигается когда управление максимально по абсолютной величине и компенсирует знак производной:\n",
    "$$-1 + \\frac{\\partial V}{\\partial x}\\cdot v +\\left|  \\frac{\\partial V}{\\partial v} \\right| = 0 $$\n",
    "\n",
    "Сразу можем определить оптимальное управление для задачи:\n",
    "$$ u = sign(\\frac{\\partial V}{\\partial v}) $$\n",
    "\n",
    "Далее решим уравнение Беллмана."
   ]
  },
  {
   "cell_type": "code",
   "execution_count": 103,
   "metadata": {},
   "outputs": [
    {
     "data": {
      "text/latex": [
       "$\\displaystyle V{\\left(x,v \\right)} = - \\sqrt{v^{2}} + F{\\left(v^{2} - 2 x \\right)}$"
      ],
      "text/plain": [
       "Eq(V(x, v), -sqrt(v**2) + F(v**2 - 2*x))"
      ]
     },
     "execution_count": 103,
     "metadata": {},
     "output_type": "execute_result"
    }
   ],
   "source": [
    "from sympy import Function, Derivative, Eq, Abs\n",
    "from sympy.solvers.pde import pdsolve, classify_pde\n",
    "from sympy.abc import x, v\n",
    "f = Function(\"V\")(x, v)\n",
    "fx = Derivative(f, x)\n",
    "fy = Derivative(f, v)\n",
    "eq = Eq(fx * v + fy - 1, 0)\n",
    "pdsolve(eq)"
   ]
  },
  {
   "cell_type": "markdown",
   "metadata": {},
   "source": [
    "Действительно, рассмотрим, например\n",
    "$$V(x, v) = v + F(v^2 - 2x) $$\n",
    "$$\\frac{\\partial V}{\\partial x} = -2\\cdot F' $$\n",
    "$$\\frac{\\partial V}{\\partial v} = 1 + 2\\cdot v \\cdot F' $$\n",
    "Тогда уравнение\n",
    "$$-1 -2\\cdot F'\\cdot v +\\left|1 + 2\\cdot v \\cdot F' \\right| = 0 $$\n",
    "или\n",
    "$$\\left|1 + 2\\cdot v \\cdot F' \\right| = 1 + 2\\cdot v\\cdot F'  $$\n",
    "\n",
    "Видно, что последнее равенство определяет область применения рассмотренной функции V. Выбирая вид функции F, лишь бы была дифференцируема, построим фунцкцию Беллмана на соответсвующих участках плоскости.\n",
    "$$ V_1  = -v - 2 \\sqrt{x + v^2/2},  \\qquad при  x \\geq -v\\cdot |v| / 2$$\n",
    "$$ V_2  = v - 2 \\sqrt{-x + v^2/2},  \\qquad при  x \\leq -v\\cdot |v| / 2$$"
   ]
  },
  {
   "cell_type": "code",
   "execution_count": 104,
   "metadata": {},
   "outputs": [],
   "source": [
    "import numpy as np\n",
    "import matplotlib.pyplot as plt\n",
    "from scipy.integrate import solve_ivp\n",
    "from math import sqrt, copysign\n",
    "import sys"
   ]
  },
  {
   "cell_type": "code",
   "execution_count": 105,
   "metadata": {},
   "outputs": [],
   "source": [
    "# определяем функцию Беллмана и её производную по v (он же y)\n",
    "def v1(x, y):\n",
    "    return -y - 2 * sqrt(x + y ** 2 / 2)\n",
    "\n",
    "def v2(x, y):\n",
    "    return y - 2 * sqrt(-x + y ** 2 / 2)\n",
    "\n",
    "def v(x, y):\n",
    "    if x >= -y * abs(y) / 2:\n",
    "        return v1(x, y)\n",
    "    elif x < -y * abs(y) / 2:\n",
    "        return v2(x, y)\n",
    "    else:\n",
    "        sys.exit('error in v')\n",
    "        \n",
    "        \n",
    "def v1_y(x, y):\n",
    "    if x == 0 and y == 0:\n",
    "        return -1\n",
    "    return -1 - y / sqrt(x + y ** 2 / 2)\n",
    "\n",
    "def v2_y(x, y):\n",
    "    if x == 0 and y == 0:\n",
    "        return 1\n",
    "    return 1 - y / sqrt(-x + y ** 2 / 2)\n",
    "\n",
    "def v_y(x, y):\n",
    "    if x >= -y * abs(y) / 2:\n",
    "        return v1_y(x, y)\n",
    "    elif x < -y * abs(y) / 2:\n",
    "        return v2_y(x, y)\n",
    "    else:\n",
    "        sys.exit('error in v_y')  "
   ]
  },
  {
   "cell_type": "code",
   "execution_count": 108,
   "metadata": {},
   "outputs": [],
   "source": [
    "# у меня возникли сложности с scipy.solve_ivp поэтому применил метод Рунге-Кутты 4 порядка, надеюсь, не критично\n",
    "def u(x, y):\n",
    "    return copysign(1, v_y(x, y))\n",
    "\n",
    "def ode(t, x):\n",
    "    return np.array([x[1], u(x[0], x[1])])\n",
    "\n",
    "def rk_4(t, y, step, func):\n",
    "    k_1 = func(t, y)\n",
    "    k_2 = func(t + step / 2, y + step * k_1 / 2)\n",
    "    k_3 = func(t + step / 2, y + step * k_2 / 2)\n",
    "    k_4 = func(t + step, y + step * k_3)\n",
    "    return y + step / 6 * (k_1 + 2 * k_2 + 2 * k_3 + k_4)\n",
    "\n",
    "def calc(y_0, step, goal, rk, func):\n",
    "    cur_t = 0\n",
    "    cur_y = y_0\n",
    "    solution = [cur_y]\n",
    "    times_res = [cur_t]\n",
    "    tol = 0.01\n",
    "    while abs(cur_y[0]) > goal + tol or abs(cur_y[1]) > goal + tol:\n",
    "        cur_y = rk(cur_t, cur_y, step, func)\n",
    "        cur_t += step\n",
    "        times_res.append(cur_t)\n",
    "        solution.append(cur_y)\n",
    "    return np.array(times_res), np.array(solution)"
   ]
  },
  {
   "cell_type": "code",
   "execution_count": 130,
   "metadata": {},
   "outputs": [
    {
     "data": {
      "image/png": "[encoded data removed]",
      "text/plain": [
       "<Figure size 432x288 with 4 Axes>"
      ]
     },
     "metadata": {
      "needs_background": "light"
     },
     "output_type": "display_data"
    }
   ],
   "source": [
    "step = 0.01\n",
    "goal = 0\n",
    "\n",
    "# начальная координата и скорость\n",
    "x_01 = np.array([5, 2])\n",
    "\n",
    "times1, x1 = calc(x_01, step, goal, rk_4, ode)\n",
    "\n",
    "fig = plt.figure()\n",
    "ax1 = fig.add_subplot(221)\n",
    "plt.xlim(-10, 10)\n",
    "plt.ylim(-10, 10)\n",
    "ax1.plot(x1[:, 0], x1[:, 1])\n",
    "ax1.grid(True)\n",
    "ax1.set_title('Phase Plane')\n",
    "ax1.set_ylabel(r'v, [m/s]')\n",
    "ax1.set_xlabel(r'x, [m]')\n",
    "ax1.set_aspect('equal')\n",
    "\n",
    "# начальная координата и скорость\n",
    "x_02 = np.array([-5, 2])\n",
    "\n",
    "times2, x2 = calc(x_02, step, goal, rk_4, ode)\n",
    "\n",
    "\n",
    "ax2 = fig.add_subplot(222)\n",
    "plt.xlim(-10, 10)\n",
    "plt.ylim(-10, 10)\n",
    "ax2.plot(x2[:, 0], x2[:, 1])\n",
    "ax2.grid(True)\n",
    "ax2.set_title('Phase Plane')\n",
    "ax2.set_ylabel(r'v, [m/s]')\n",
    "ax2.set_xlabel(r'x, [m]')\n",
    "ax2.set_aspect('equal')\n",
    "\n",
    "\n",
    "# начальная координата и скорость\n",
    "x_03 = np.array([7, -3])\n",
    "\n",
    "times3, x3 = calc(x_03, step, goal, rk_4, ode)\n",
    "\n",
    "\n",
    "ax3 = fig.add_subplot(223)\n",
    "plt.xlim(-10, 10)\n",
    "plt.ylim(-10, 10)\n",
    "ax3.plot(x3[:, 0], x3[:, 1])\n",
    "ax3.grid(True)\n",
    "ax3.set_title('Phase Plane')\n",
    "ax3.set_ylabel(r'v, [m/s]')\n",
    "ax3.set_xlabel(r'x, [m]')\n",
    "ax3.set_aspect('equal')\n",
    "\n",
    "\n",
    "\n",
    "# начальная координата и скорость\n",
    "x_04 = np.array([-5, -3])\n",
    "\n",
    "times4, x4 = calc(x_04, step, goal, rk_4, ode)\n",
    "\n",
    "\n",
    "ax4 = fig.add_subplot(224)\n",
    "plt.xlim(-10, 10)\n",
    "plt.ylim(-10, 10)\n",
    "ax4.plot(x4[:, 0], x4[:, 1])\n",
    "ax4.grid(True)\n",
    "ax4.set_title('Phase Plane')\n",
    "ax4.set_ylabel(r'v, [m/s]')\n",
    "ax4.set_xlabel(r'x, [m]')\n",
    "ax4.set_aspect('equal')\n",
    "# здесь нельзя не отметить, что полученное решение, качественно повторяет геометрическое решение данной задачи, когда по\n",
    "# двум параболам мы приходим в ноль"
   ]
  }
 ],
 "metadata": {
  "kernelspec": {
   "display_name": "Python 3",
   "language": "python",
   "name": "python3"
  },
  "language_info": {
   "codemirror_mode": {
    "name": "ipython",
    "version": 3
   },
   "file_extension": ".py",
   "mimetype": "text/x-python",
   "name": "python",
   "nbconvert_exporter": "python",
   "pygments_lexer": "ipython3",
   "version": "3.8.5"
  }
 },
 "nbformat": 4,
 "nbformat_minor": 4
}
